{
  "nbformat": 4,
  "nbformat_minor": 0,
  "metadata": {
    "colab": {
      "provenance": [],
      "authorship_tag": "ABX9TyPz8jSYBSJK0Xaf8AfhSCiE",
      "include_colab_link": true
    },
    "kernelspec": {
      "name": "python3",
      "display_name": "Python 3"
    },
    "language_info": {
      "name": "python"
    }
  },
  "cells": [
    {
      "cell_type": "markdown",
      "metadata": {
        "id": "view-in-github",
        "colab_type": "text"
      },
      "source": [
        "<a href=\"https://colab.research.google.com/github/Gezahegn-Abd/Powe-allocation-far-near/blob/main/Far_near_NOMA.ipynb\" target=\"_parent\"><img src=\"https://colab.research.google.com/assets/colab-badge.svg\" alt=\"Open In Colab\"/></a>"
      ]
    },
    {
      "cell_type": "code",
      "execution_count": null,
      "metadata": {
        "id": "PNG9_fjHmTnk"
      },
      "outputs": [],
      "source": [
        "def fair_power_allocation(args, pair_ue_m_index, pair_ue_dataset_m):\n",
        "\n",
        "    #Far_j = args.Far_UEs_indx_all_models[l_m][uav_j] #np.linspace(0.5,10,10)  _all_models[l_m]\n",
        "    #Near_j = args.Near_UEs_indx_all_models[l_m][uav_j]\n",
        "    key=pair_ue_dataset_m.keys()\n",
        "\n",
        "    aplha=0\n",
        "    #this loop is considering maximum 2 multplexing on single subcarrier\n",
        "    f_indx = pair_ue_dataset_m['F/N'][pair_ue_m_index].index[pair_ue_dataset_m['F/N'][pair_ue_m_index] == 'F'].tolist()\n",
        "    n_indx = pair_ue_dataset_m['F/N'][pair_ue_m_index].index[pair_ue_dataset_m['F/N'][pair_ue_m_index] == 'N'].tolist()\n",
        "\n",
        "    #PA(for comparison) Fixed\n",
        "    #af = 0.75\n",
        "    #an = 0.25\n",
        "\n",
        "    alloc = False\n",
        "    if len(f_indx)!=0 and len(n_indx)!=0:\n",
        "        g_f = pair_ue_dataset_m[key[2]][f_indx[0]].tolist()\n",
        "        R_f_max = pair_ue_dataset_m['R*'][f_indx[0]].tolist()  # %Far user target rate range (R*) r\n",
        "        noise_f = pair_ue_dataset_m['N_0'][f_indx[0]].tolist()\n",
        "\n",
        "        g_n = pair_ue_dataset_m[key[2]][n_indx[0]].tolist()\n",
        "\n",
        "        epsilon = (2 ** (R_f_max/args.B)) - 1  #Target  SINR\n",
        "\n",
        "        # compute delay based on the initially computed network dataset\n",
        "        # count = args.beta[c].tolist().count(1) #count the number of subcarriers allocated for UAV_j 'F/N'\n",
        "\n",
        "\n",
        "        I_inter=0\n",
        "        #for far user   % BASIC   FAIR  PA %\n",
        "        #aplha=epsilon * (noise_f + g_n* args.P_j_u+I_inter)/(args.P_j_u*(g_f + epsilon*g_n)) #-(I_inter*epsilon)\n",
        "        aplha = np.divide(epsilon * ((g_f * args.P_j_u)+noise_f ), g_f * args.P_j_u * (1 + epsilon))\n",
        "\n",
        "\n",
        "        if aplha>1:\n",
        "            alpha_f=0  #far user will be in outage , entire power allocated for near UEs\n",
        "        else:\n",
        "            alpha_f = aplha\n",
        "        alpha_n = 1 - alpha_f\n",
        "        p_f=alpha_f * args.P_j_u\n",
        "        p_n=alpha_n * args.P_j_u\n",
        "\n",
        "        pair_ue_dataset_m.at[f_indx[0],'pi']=p_f\n",
        "        pair_ue_dataset_m.at[f_indx[0], 'pigi'] = p_f * g_f\n",
        "        pair_ue_dataset_m.at[n_indx[0], 'pi'] = p_n\n",
        "        pair_ue_dataset_m.at[n_indx[0], 'pigi'] = p_n*g_n\n",
        "\n",
        "        alloc=True\n",
        "\n",
        "    elif len(f_indx)!=0 and len(n_indx)==0 and alloc == False:\n",
        "        g_f = pair_ue_dataset_m[key[2]][f_indx[0]].tolist()\n",
        "        R_f_max = pair_ue_dataset_m['R*'][f_indx[0]].tolist()  # %Far user target rate range (R*) r\n",
        "        noise_f = pair_ue_dataset_m['N_0'][f_indx[0]].tolist()\n",
        "\n",
        "        epsilon = (2 ** R_f_max/args.B) - 1 #Target  SINR\n",
        "\n",
        "        #alpha_f = np.minimum(1, epsilon * (noise_f + g_f * args.P_j_u) / (g_f * args.P_j_u * (1 + epsilon) - (I_inter * epsilon)))\n",
        "        #aplha = epsilon * (noise_f + I_inter) / (args.P_j_u * g_f)\n",
        "        aplha = np.divide(epsilon * ((g_f * args.P_j_u)+noise_f ), g_f * args.P_j_u * (1 + epsilon))\n",
        "\n",
        "        if aplha > 1:\n",
        "            alpha_f = 0  # far user will be in outage , entire power allocated for near UEs\n",
        "        else:\n",
        "            alpha_f = aplha\n",
        "        p_f = alpha_f * args.P_j_u\n",
        "        pair_ue_dataset_m.at[f_indx[0], 'pi'] = p_f\n",
        "        pair_ue_dataset_m.at[f_indx[0], 'pigi'] = p_f * g_f\n",
        "\n",
        "        alloc = True\n",
        "    elif len(f_indx)==0 and len(n_indx)!=0 and alloc == False:\n",
        "        g_n = pair_ue_dataset_m[key[2]][n_indx[0]].tolist()\n",
        "\n",
        "        #epsilon = np.round((2 ** R_n_max/args.B) - 1, 4) #Target  SINR\n",
        "\n",
        "        #aaf = np.minimum(1, (epsilon * noise_n)/ (p2 * g2 * (1 + epsilon)))\n",
        "        alpha_n= 1   #if there is no other UE paired the total transmit power is allocated for the single UE\n",
        "        p_n=alpha_n * args.P_j_u\n",
        "        pair_ue_dataset_m.at[n_indx[0], 'pi'] = p_n\n",
        "        pair_ue_dataset_m.at[n_indx[0], 'pigi'] = p_n * g_n\n",
        "        alloc = True\n",
        "    return pair_ue_dataset_m"
      ]
    }
  ]
}